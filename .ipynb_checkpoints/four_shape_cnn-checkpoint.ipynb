{
 "cells": [
  {
   "cell_type": "markdown",
   "metadata": {},
   "source": [
    "# Building a CNN to classify the four shapes from the Kaggle dataset of that name\n",
    "\n",
    "https://www.kaggle.com/smeschke/four-shapes"
   ]
  },
  {
   "cell_type": "code",
   "execution_count": 1,
   "metadata": {},
   "outputs": [
    {
     "name": "stderr",
     "output_type": "stream",
     "text": [
      "/home/cecil/apps/anaconda3/envs/ds/lib/python3.6/site-packages/h5py/__init__.py:36: FutureWarning: Conversion of the second argument of issubdtype from `float` to `np.floating` is deprecated. In future, it will be treated as `np.float64 == np.dtype(float).type`.\n",
      "  from ._conv import register_converters as _register_converters\n"
     ]
    }
   ],
   "source": [
    "import cv2\n",
    "import numpy as np\n",
    "import os\n",
    "# import PIL\n",
    "import tensorflow as tf\n",
    "\n",
    "import matplotlib.image as mpimg\n",
    "from matplotlib import pyplot as plt\n",
    "from sklearn.utils import shuffle\n",
    "from tensorflow.contrib.layers import fully_connected"
   ]
  },
  {
   "cell_type": "code",
   "execution_count": 2,
   "metadata": {},
   "outputs": [],
   "source": [
    "def reset_graph(seed=42):\n",
    "    tf.reset_default_graph()\n",
    "    tf.set_random_seed(seed)\n",
    "    np.random.seed(seed)"
   ]
  },
  {
   "cell_type": "code",
   "execution_count": 3,
   "metadata": {},
   "outputs": [],
   "source": [
    "def flatten(dimData, images):\n",
    "    images = np.array(images)\n",
    "    images = images.reshape(len(images), dimData)\n",
    "    images = images.astype('float32')\n",
    "    images /=255\n",
    "    return images"
   ]
  },
  {
   "cell_type": "markdown",
   "metadata": {},
   "source": [
    "# Get Data"
   ]
  },
  {
   "cell_type": "code",
   "execution_count": 4,
   "metadata": {},
   "outputs": [],
   "source": [
    "def get_img_n_lbl(path, folders_arr):\n",
    "    labels, images = [], []\n",
    "    key = {}\n",
    "    for folder in folders_arr:\n",
    "        print(folder)\n",
    "        label = folders_arr.index(folder)\n",
    "        key[folder] = label\n",
    "        \n",
    "        for img in os.listdir(path+'/'+folder):\n",
    "            image = cv2.imread(path+'/'+folder+'/'+img, 0)\n",
    "            images.append(image)\n",
    "            labels.append(label)\n",
    "    print(key)\n",
    "    return images, labels, key\n",
    "    "
   ]
  },
  {
   "cell_type": "code",
   "execution_count": 5,
   "metadata": {},
   "outputs": [],
   "source": [
    "path = os.getcwd()+\"/../temp_data_storage\""
   ]
  },
  {
   "cell_type": "code",
   "execution_count": 6,
   "metadata": {
    "scrolled": true
   },
   "outputs": [
    {
     "name": "stdout",
     "output_type": "stream",
     "text": [
      "square\n",
      "star\n",
      "triangle\n",
      "circle\n",
      "{'square': 0, 'star': 1, 'triangle': 2, 'circle': 3}\n"
     ]
    }
   ],
   "source": [
    "images, labels, key = get_img_n_lbl(path, ['square','star','triangle','circle'])"
   ]
  },
  {
   "cell_type": "markdown",
   "metadata": {},
   "source": [
    "# Split into training and test sets"
   ]
  },
  {
   "cell_type": "code",
   "execution_count": 7,
   "metadata": {},
   "outputs": [],
   "source": [
    "def split_test_train(images, labels):\n",
    "    #shuffle data\n",
    "    labels, images = shuffle(labels, images, random_state=0)    \n",
    "    \n",
    "    to_train = 0\n",
    "    train_images, train_labels, test_images, test_labels = [],[],[],[]\n",
    "    for img, lbl in zip(images, labels):\n",
    "        if to_train < 5:\n",
    "            train_images.append(img)\n",
    "            train_labels.append(lbl)\n",
    "            to_train += 1\n",
    "        else:\n",
    "            test_images.append(img)\n",
    "            test_labels.append(lbl)\n",
    "            to_train = 0\n",
    "    \n",
    "            \n",
    "    return np.asarray(train_images), np.asarray(train_labels), np.asarray(test_images), np.asarray(test_labels)"
   ]
  },
  {
   "cell_type": "code",
   "execution_count": 8,
   "metadata": {},
   "outputs": [],
   "source": [
    "train_images, train_labels, test_images, test_labels = split_test_train(images, labels)"
   ]
  },
  {
   "cell_type": "code",
   "execution_count": 9,
   "metadata": {},
   "outputs": [],
   "source": [
    "dataDim = np.prod(images[0].shape)\n",
    "train_data  = flatten(dataDim, train_images)\n",
    "test_data = flatten(dataDim, test_images)"
   ]
  },
  {
   "cell_type": "code",
   "execution_count": 10,
   "metadata": {},
   "outputs": [],
   "source": [
    "#batch_size, height, width, channels = dataset.shape\n",
    "training_img_cnt, height, width = train_images.shape\n",
    "channels = 1\n",
    "n_inputs = height * width\n",
    "\n",
    "conv1_fmaps = 32\n",
    "conv1_ksize = 3\n",
    "conv1_stride = 1\n",
    "conv1_pad = \"SAME\"\n",
    "\n",
    "conv2_fmaps = 64\n",
    "conv2_ksize = 3\n",
    "conv2_stride = 2\n",
    "conv2_pad = \"SAME\"\n",
    "\n",
    "pool3_fmaps = conv2_fmaps\n",
    "\n",
    "n_fc1 = 64\n",
    "n_outputs = len(key)\n"
   ]
  },
  {
   "cell_type": "code",
   "execution_count": 14,
   "metadata": {},
   "outputs": [
    {
     "name": "stdout",
     "output_type": "stream",
     "text": [
      "(?, 200, 200, 32)\n",
      "(?, 100, 100, 64)\n",
      "(?, 50, 50, 64)\n",
      "(?, 160000)\n",
      "(?, 64)\n",
      "(?, 4)\n"
     ]
    }
   ],
   "source": [
    "with tf.name_scope(\"inputs\"):\n",
    "    X = tf.placeholder(tf.float32, shape=[None, n_inputs], name=\"X\")\n",
    "    X_reshaped = tf.reshape(X, shape=[-1, height, width, channels])\n",
    "    y = tf.placeholder(tf.int32, shape=[None], name=\"y\")\n",
    "\n",
    "conv1 = tf.layers.conv2d(X_reshaped, filters=conv1_fmaps, kernel_size=conv1_ksize,\n",
    "                         strides=conv1_stride, padding=conv1_pad,\n",
    "                         activation=tf.nn.relu, name=\"conv1\")\n",
    "conv2 = tf.layers.conv2d(conv1, filters=conv2_fmaps, kernel_size=conv2_ksize,\n",
    "                         strides=conv2_stride, padding=conv2_pad,\n",
    "                         activation=tf.nn.relu, name=\"conv2\")\n",
    "print(conv1.shape)\n",
    "print(conv2.shape)\n",
    "\n",
    "with tf.name_scope(\"pool3\"):\n",
    "    pool3 = tf.nn.max_pool(conv2, ksize=[1, 2, 2, 1], strides=[1, 2, 2, 1], padding=\"VALID\")\n",
    "    print(pool3.shape)\n",
    "    pool3_flat = tf.reshape(pool3, shape=[-1, pool3_fmaps * 50 * 50])\n",
    "    print(pool3_flat.shape)\n",
    "    \n",
    "\n",
    "with tf.name_scope(\"fc1\"):\n",
    "    fc1 = tf.layers.dense(pool3_flat, n_fc1, activation=tf.nn.relu, name=\"fc1\")\n",
    "    print(fc1.shape)\n",
    "    \n",
    "    \n",
    "with tf.name_scope(\"output\"):\n",
    "    logits = tf.layers.dense(fc1, n_outputs, name=\"output\")\n",
    "    print(logits.shape)\n",
    "    \n",
    "    Y_proba = tf.nn.softmax(logits, name=\"Y_proba\")\n",
    "\n",
    "with tf.name_scope(\"train\"):\n",
    "    xentropy = tf.nn.sparse_softmax_cross_entropy_with_logits(logits=logits, labels=y)\n",
    "    loss = tf.reduce_mean(xentropy)\n",
    "    optimizer = tf.train.AdamOptimizer()\n",
    "    training_op = optimizer.minimize(loss)\n",
    "\n",
    "with tf.name_scope(\"eval\"):\n",
    "    correct = tf.nn.in_top_k(logits, y, 1)\n",
    "    accuracy = tf.reduce_mean(tf.cast(correct, tf.float32))\n",
    "\n",
    "with tf.name_scope(\"init_and_save\"):\n",
    "    init = tf.global_variables_initializer()\n",
    "    saver = tf.train.Saver()"
   ]
  },
  {
   "cell_type": "code",
   "execution_count": 15,
   "metadata": {},
   "outputs": [
    {
     "name": "stdout",
     "output_type": "stream",
     "text": [
      "0 Train accuracy: 0.995 Test accuracy: 0.99\n",
      "1 Train accuracy: 1.0 Test accuracy: 1.0\n",
      "2 Train accuracy: 1.0 Test accuracy: 1.0\n",
      "3 Train accuracy: 1.0 Test accuracy: 1.0\n",
      "4 Train accuracy: 1.0 Test accuracy: 1.0\n",
      "5 Train accuracy: 1.0 Test accuracy: 1.0\n",
      "6 Train accuracy: 1.0 Test accuracy: 1.0\n",
      "7 Train accuracy: 1.0 Test accuracy: 1.0\n",
      "8 Train accuracy: 1.0 Test accuracy: 1.0\n",
      "9 Train accuracy: 1.0 Test accuracy: 1.0\n"
     ]
    }
   ],
   "source": [
    "n_epochs = 10\n",
    "batch_size = 200\n",
    "\n",
    "\n",
    "with tf.Session() as sess:\n",
    "    init.run()\n",
    "    for epoch in range(n_epochs):\n",
    "#         print(epoch)\n",
    "        batch_old = 0\n",
    "\n",
    "        for iteration in range(training_img_cnt // batch_size):\n",
    "            X_batch = train_data[batch_old: batch_old + batch_size]\n",
    "            y_batch = train_labels[batch_old: batch_old + batch_size]\n",
    "#             print(type(y_batch))\n",
    "#             print(iteration)s\n",
    "            sess.run(training_op, feed_dict={X: X_batch, y: y_batch})\n",
    "            batch_old += batch_size\n",
    "        acc_train = accuracy.eval(feed_dict={X: X_batch, y: y_batch})\n",
    "#     acc_test = accuracy.eval(feed_dict={X: test_data, y: test_labels})\n",
    "#     print(epoch, \"Train accuracy:\", acc_train, \"Test accuracy:\", acc_test)\n",
    "        acc_test = accuracy.eval(feed_dict={X: test_data[:200], y: test_labels[:200]})\n",
    "        print(epoch, \"Train accuracy:\", acc_train, \"Test accuracy:\", acc_test)\n",
    "    save_path = saver.save(sess, \"./models/four_shape.ckpt\")\n",
    "    "
   ]
  },
  {
   "cell_type": "code",
   "execution_count": 13,
   "metadata": {},
   "outputs": [],
   "source": [
    "reset_graph()"
   ]
  },
  {
   "cell_type": "code",
   "execution_count": null,
   "metadata": {},
   "outputs": [],
   "source": [
    "with tf.Session() as sess:\n",
    "    saver.restore(sess, \"./models/four_shape.ckpt\")\n",
    "    init.run()\n",
    "    correct.eval(feed_dict={X: test_data[:5]})"
   ]
  },
  {
   "cell_type": "code",
   "execution_count": null,
   "metadata": {},
   "outputs": [],
   "source": []
  },
  {
   "cell_type": "code",
   "execution_count": null,
   "metadata": {},
   "outputs": [],
   "source": []
  }
 ],
 "metadata": {
  "kernelspec": {
   "display_name": "Python [default]",
   "language": "python",
   "name": "python3"
  },
  "language_info": {
   "codemirror_mode": {
    "name": "ipython",
    "version": 3
   },
   "file_extension": ".py",
   "mimetype": "text/x-python",
   "name": "python",
   "nbconvert_exporter": "python",
   "pygments_lexer": "ipython3",
   "version": "3.6.4"
  }
 },
 "nbformat": 4,
 "nbformat_minor": 2
}
